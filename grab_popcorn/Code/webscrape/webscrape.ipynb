{
 "cells": [
  {
   "cell_type": "code",
   "execution_count": 1,
   "id": "38ae7112-0129-42bd-83df-76ca54111804",
   "metadata": {},
   "outputs": [],
   "source": [
    "from splinter import Browser\n",
    "from bs4 import BeautifulSoup as soup"
   ]
  },
  {
   "cell_type": "code",
   "execution_count": 2,
   "id": "2b77150e-96df-4865-b6ae-7ae2bb1f6606",
   "metadata": {},
   "outputs": [],
   "source": [
    "browser = Browser('chrome')"
   ]
  },
  {
   "cell_type": "code",
   "execution_count": null,
   "id": "8e6440cd-9b4e-472e-bbf4-754814585ac6",
   "metadata": {},
   "outputs": [],
   "source": [
    "url = 'https://www.imdb.com/chart/moviemeter/?sort=rank%2Casc'\n",
    "browser.visit(url)"
   ]
  },
  {
   "cell_type": "code",
   "execution_count": null,
   "id": "c616bd2b-884b-4289-8e59-f3d2b0a0adfb",
   "metadata": {},
   "outputs": [],
   "source": [
    "html = browser.html\n",
    "soup = soup(html, 'html.parser')"
   ]
  },
  {
   "cell_type": "code",
   "execution_count": null,
   "id": "a8a4df3d-e66c-4f1d-8afb-83208ec3ed90",
   "metadata": {},
   "outputs": [],
   "source": [
    "text = soup.find('ul', class_='ipc-metadata-list')"
   ]
  },
  {
   "cell_type": "code",
   "execution_count": null,
   "id": "7734458f-1cf0-4c34-8c02-5033540bd19f",
   "metadata": {},
   "outputs": [],
   "source": [
    "text"
   ]
  },
  {
   "cell_type": "code",
   "execution_count": null,
   "id": "9f89d984-000d-44fc-89af-06ee4d04a4de",
   "metadata": {},
   "outputs": [],
   "source": [
    "title_list = []"
   ]
  },
  {
   "cell_type": "code",
   "execution_count": null,
   "id": "ac64eebe-ef0e-4108-be70-043689ec91b8",
   "metadata": {},
   "outputs": [],
   "source": [
    "for t in text:\n",
    "    title = t.find('h3', class_='ipc-title__text').text\n",
    "    title_dict = {'title': title}\n",
    "    title_list.append(title_dict)"
   ]
  },
  {
   "cell_type": "code",
   "execution_count": null,
   "id": "d0edfdb5-a543-4902-919a-fb267a402b97",
   "metadata": {},
   "outputs": [],
   "source": [
    "title_list"
   ]
  },
  {
   "cell_type": "code",
   "execution_count": null,
   "id": "783b29e9-408c-4978-a59b-a6988b144aa9",
   "metadata": {},
   "outputs": [],
   "source": []
  },
  {
   "cell_type": "code",
   "execution_count": null,
   "id": "2c97b0f6-159e-496e-b740-bfb457088088",
   "metadata": {},
   "outputs": [],
   "source": []
  }
 ],
 "metadata": {
  "kernelspec": {
   "display_name": "Python 3 (ipykernel)",
   "language": "python",
   "name": "python3"
  },
  "language_info": {
   "codemirror_mode": {
    "name": "ipython",
    "version": 3
   },
   "file_extension": ".py",
   "mimetype": "text/x-python",
   "name": "python",
   "nbconvert_exporter": "python",
   "pygments_lexer": "ipython3",
   "version": "3.11.5"
  }
 },
 "nbformat": 4,
 "nbformat_minor": 5
}
